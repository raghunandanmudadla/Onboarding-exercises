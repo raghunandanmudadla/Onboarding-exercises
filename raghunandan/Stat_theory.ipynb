{
 "cells": [
  {
   "cell_type": "markdown",
   "metadata": {},
   "source": [
    "# Population Vs Sampling"
   ]
  },
  {
   "cell_type": "markdown",
   "metadata": {},
   "source": [
    "Population refers to the entire dataset where as sampling refers to picking a few out of the whole dataset. We use population as reference when we have access to the data from all areas of interest but when the space is large it is often impossible to have data from every feature hence we use sampling and often selective sampling to do the analysis"
   ]
  },
  {
   "cell_type": "markdown",
   "metadata": {},
   "source": [
    "# Chebyshevs and Central limit theorem"
   ]
  },
  {
   "cell_type": "markdown",
   "metadata": {},
   "source": [
    "chebyshevs theorem is very useful for basic statistical analysis. It states For any number k greater than 1, at least 1-1/k2 of the data will fall within k standard deviations of the mean.\n",
    "\n",
    "Central Limit theorem is the basis fot most of the ML model assumptions that the distribution or rather mean of sample distributions of a given dataset is normal"
   ]
  },
  {
   "cell_type": "markdown",
   "metadata": {},
   "source": [
    "For distributions ive found the book from the link to be an excellent resource\n",
    "Introduction to Probability by Blitzstein Hwang\n",
    "https://drive.google.com/file/d/1VmkAAGOYCTORq1wxSQqy255qLJjTNvBI/view"
   ]
  },
  {
   "cell_type": "markdown",
   "metadata": {},
   "source": [
    "Bayes theorem used in machine learning models to predict the weights while optimizing for weights by assuming them to be following a probability distribution"
   ]
  },
  {
   "cell_type": "markdown",
   "metadata": {},
   "source": [
    "Types of Variables\n",
    "Continous \n",
    "Discrete\n",
    "Random\n",
    "Categorical\n",
    "Confidence Interval confidence interval suggest with what probability that a value lies in the given range. Z value\n",
    "Significance Testing - Criterion to reject null hypothesis\n",
    "T test - \n",
    "Kolmogorov Smirnov test\n",
    "ANOVA - used to test difference between sample sets\n",
    "Chi Square Test - https://www.statisticssolutions.com/using-chi-square-statistic-in-research/#:~:text=The%20Chi%20Square%20statistic%20is,the%20population%3B%20they%20are%20independent.\n",
    "Correlation and Covariance - \n"
   ]
  }
 ],
 "metadata": {
  "kernelspec": {
   "display_name": "Python 3",
   "language": "python",
   "name": "python3"
  },
  "language_info": {
   "codemirror_mode": {
    "name": "ipython",
    "version": 3
   },
   "file_extension": ".py",
   "mimetype": "text/x-python",
   "name": "python",
   "nbconvert_exporter": "python",
   "pygments_lexer": "ipython3",
   "version": "3.7.6"
  }
 },
 "nbformat": 4,
 "nbformat_minor": 4
}
